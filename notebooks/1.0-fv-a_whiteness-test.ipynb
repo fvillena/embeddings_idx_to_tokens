{
 "cells": [
  {
   "cell_type": "code",
   "execution_count": 1,
   "metadata": {},
   "outputs": [],
   "source": [
    "import gensim"
   ]
  },
  {
   "cell_type": "code",
   "execution_count": 2,
   "metadata": {},
   "outputs": [],
   "source": [
    "model = gensim.models.KeyedVectors.load_word2vec_format( # loading word embeddings\n",
    "    r'../data/processed/corpus_words_no_punct_single_line_ap_dd_fc_nc.vec', # using the spanish billion words embeddings\n",
    "    binary=False # the model is in binary format\n",
    ")"
   ]
  },
  {
   "cell_type": "code",
   "execution_count": 3,
   "metadata": {},
   "outputs": [
    {
     "data": {
      "text/plain": [
       "[('clavulanico', 0.869208574295044),\n",
       " ('claritromicina', 0.7917028665542603),\n",
       " ('amoval', 0.7631471157073975),\n",
       " ('amoxi', 0.7521812915802002),\n",
       " ('azitromicina', 0.7465726137161255),\n",
       " ('ambilan', 0.7364921569824219),\n",
       " ('clavulamico', 0.7351433038711548),\n",
       " ('cefadroxilo', 0.7335419654846191),\n",
       " ('clavinex', 0.730068564414978),\n",
       " ('amoxcilina', 0.7298336029052734)]"
      ]
     },
     "execution_count": 3,
     "metadata": {},
     "output_type": "execute_result"
    }
   ],
   "source": [
    "model.most_similar('amoxicilina')"
   ]
  },
  {
   "cell_type": "code",
   "execution_count": 4,
   "metadata": {},
   "outputs": [
    {
     "data": {
      "text/plain": [
       "[('amno', 0.6159813404083252),\n",
       " ('mnao', 0.6010815501213074),\n",
       " ('muneca', 0.5879347920417786),\n",
       " ('puierna', 0.5765719413757324),\n",
       " ('piena', 0.5706732869148254),\n",
       " ('rodila', 0.5649408102035522),\n",
       " ('peirna', 0.5565845966339111),\n",
       " ('manop', 0.55352783203125),\n",
       " ('manoi', 0.5524308681488037),\n",
       " ('dedo', 0.5418721437454224),\n",
       " ('rosila', 0.5318846702575684),\n",
       " ('manao', 0.5275408625602722),\n",
       " ('manp', 0.5246803760528564),\n",
       " ('rodla', 0.5192745923995972),\n",
       " ('ierna', 0.5172392725944519),\n",
       " ('pirna', 0.5158249139785767),\n",
       " ('hipotenar', 0.515614926815033),\n",
       " ('tenar', 0.5129240155220032),\n",
       " ('perna', 0.5081679224967957),\n",
       " ('munaca', 0.5040184855461121),\n",
       " ('manpo', 0.5026170611381531),\n",
       " ('pioerna', 0.4999862313270569),\n",
       " ('ridila', 0.49979549646377563),\n",
       " ('manom', 0.4979490637779236),\n",
       " ('extremidad', 0.4979025721549988),\n",
       " ('piern', 0.49776872992515564),\n",
       " ('enpierna', 0.4952009618282318),\n",
       " ('muleca', 0.4950198531150818),\n",
       " ('riodila', 0.49330228567123413),\n",
       " ('depierna', 0.4919740557670593),\n",
       " ('rdila', 0.49105286598205566),\n",
       " ('mamno', 0.48990392684936523),\n",
       " ('lamano', 0.4889667332172394),\n",
       " ('pierma', 0.48845136165618896),\n",
       " ('piermna', 0.4857379198074341),\n",
       " ('eid', 0.4840999245643616),\n",
       " ('eminecia', 0.4837305247783661),\n",
       " ('dedos', 0.48343753814697266),\n",
       " ('muenca', 0.48259979486465454),\n",
       " ('munec', 0.4811789393424988),\n",
       " ('pieran', 0.4808093309402466),\n",
       " ('majno', 0.4806522727012634),\n",
       " ('nmano', 0.47908157110214233),\n",
       " ('ropdila', 0.4790682792663574),\n",
       " ('mueneca', 0.47901490330696106),\n",
       " ('menique', 0.47651174664497375),\n",
       " ('dedop', 0.47635188698768616),\n",
       " ('eminancia', 0.4760442078113556),\n",
       " ('1997155', 0.4760018587112427),\n",
       " ('mneca', 0.47531014680862427),\n",
       " ('mwenique', 0.4746401906013489),\n",
       " ('pantorila', 0.4739437997341156),\n",
       " ('rodilal', 0.4737870693206787),\n",
       " ('indide', 0.47357213497161865),\n",
       " ('manbo', 0.47355666756629944),\n",
       " ('piernma', 0.4734949767589569),\n",
       " ('munevca', 0.47344112396240234),\n",
       " ('mineca', 0.47313162684440613),\n",
       " ('nuneca', 0.47186732292175293),\n",
       " ('rodil', 0.4716234505176544),\n",
       " ('munerca', 0.4716114103794098),\n",
       " ('mnano', 0.47160106897354126),\n",
       " ('mabno', 0.47135263681411743),\n",
       " ('mupneca', 0.4711599349975586),\n",
       " ('pirena', 0.4704006612300873),\n",
       " ('cotante', 0.46999746561050415),\n",
       " ('muineca', 0.46909672021865845),\n",
       " ('piuerna', 0.4689348638057709),\n",
       " ('emano', 0.46854299306869507),\n",
       " ('rtodila', 0.4683970808982849),\n",
       " ('eminencia', 0.46733975410461426),\n",
       " ('redila', 0.46669521927833557),\n",
       " ('uneca', 0.46641024947166443),\n",
       " ('2107926', 0.463445246219635),\n",
       " ('piernba', 0.4629824161529541),\n",
       " ('enmano', 0.46203702688217163),\n",
       " ('pierbna', 0.4620082676410675),\n",
       " ('indie', 0.4619050920009613),\n",
       " ('muneza', 0.4609045386314392),\n",
       " ('deod', 0.4599536061286926),\n",
       " ('rpdila', 0.4599113464355469),\n",
       " ('dedoindice', 0.4588038921356201),\n",
       " ('palmar', 0.45879337191581726),\n",
       " ('ymuneca', 0.45847567915916443),\n",
       " ('caleiente', 0.4581769108772278),\n",
       " ('epierna', 0.45808982849121094),\n",
       " ('munleca', 0.4578714966773987),\n",
       " ('equimosisdolor', 0.4573628902435303),\n",
       " ('dedeo', 0.45678263902664185),\n",
       " ('pulagar', 0.45442163944244385),\n",
       " ('emnao', 0.4544004499912262),\n",
       " ('plamr', 0.4542064666748047),\n",
       " ('naular', 0.45386844873428345),\n",
       " ('dedom', 0.45284438133239746),\n",
       " ('manoy', 0.4522766172885895),\n",
       " ('palpamr', 0.4516807794570923),\n",
       " ('munace', 0.4515841603279114),\n",
       " ('cortande', 0.45107170939445496),\n",
       " ('puldar', 0.451059490442276),\n",
       " ('mauneca', 0.45068255066871643)]"
      ]
     },
     "execution_count": 4,
     "metadata": {},
     "output_type": "execute_result"
    }
   ],
   "source": [
    "w1, w2, w3 = 'brazo', 'mano', 'pierna'\n",
    "model.most_similar(positive=[w3, w2], negative=[w1], topn=100)"
   ]
  },
  {
   "cell_type": "code",
   "execution_count": null,
   "metadata": {},
   "outputs": [],
   "source": []
  }
 ],
 "metadata": {
  "kernelspec": {
   "display_name": "Python 3",
   "language": "python",
   "name": "python3"
  },
  "language_info": {
   "codemirror_mode": {
    "name": "ipython",
    "version": 3
   },
   "file_extension": ".py",
   "mimetype": "text/x-python",
   "name": "python",
   "nbconvert_exporter": "python",
   "pygments_lexer": "ipython3",
   "version": "3.6.8"
  }
 },
 "nbformat": 4,
 "nbformat_minor": 2
}
